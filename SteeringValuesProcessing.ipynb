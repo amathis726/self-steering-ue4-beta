{
 "cells": [
  {
   "cell_type": "markdown",
   "metadata": {},
   "source": [
    "## These cells are used to help clean up and generate training data for a self-steering vehicle in Unreal 4."
   ]
  },
  {
   "cell_type": "markdown",
   "metadata": {},
   "source": [
    "## Description"
   ]
  },
  {
   "cell_type": "markdown",
   "metadata": {},
   "source": [
    "The cells below are intended to be run individually based on the how the training data was generated. I experimented with various versions and approaches, explained above each cell.\n",
    "\n",
    "I'm using the fast.ai MOOC Practical Deep Learning for Coders, version 3 as a basis for these experiments. The third lesson deals with image segmentation and regression. To make my life easier and so I can reuse their code, I'm formatting my image segmentation data similarly the dataset they use for the course. That dataset can be found at: http://mi.eng.cam.ac.uk/research/projects/VideoRec/CamVid/"
   ]
  },
  {
   "cell_type": "code",
   "execution_count": null,
   "metadata": {},
   "outputs": [],
   "source": [
    "import numpy as np\n",
    "import pandas as pd\n",
    "from PIL import Image\n",
    "from pathlib import Path\n",
    "import os"
   ]
  },
  {
   "cell_type": "markdown",
   "metadata": {},
   "source": [
    "## A.1: Read in steering values from Unreal log file as a dataframe. Clean it up and write to a csv"
   ]
  },
  {
   "cell_type": "markdown",
   "metadata": {},
   "source": [
    "steeringValues.txt is derived from the log file that Unreal generates at runtime. Each frame, a script in Unreal outputs the steering values (ranges from -1 for left steer, to +1 for right steer) from the game controller to the log file. The log file contains lots of other data and output, though, so I copy and paste only the lines I need into the txt file, and use the lines of code below to cleanup and format the data for a csv file that Unreal can read.\n",
    "\n",
    "I eventually abandoned this approach because the data I collected was often undesireable behavior. For example, from the center of the road, if I drove to the edge and then swerved back in toward center, I wouldn't want to collect the initial steering values or screenshots because this is not the kind of behavior that I'd like to teach my steerer. I don't want my vehicle to wildly swing to one side of the road when it's driving nice and smoothly down the center. However, I do need data that tells the vehicle what to do when it does find itself near the edge of the road and wants to steer back toward center. I couldn't figure out a smart way to exclude the unwanted data collection though, so I moved on to a different approach: A.2."
   ]
  },
  {
   "cell_type": "code",
   "execution_count": 2,
   "metadata": {},
   "outputs": [
    {
     "data": {
      "text/plain": [
       "(3260, 1)"
      ]
     },
     "execution_count": 2,
     "metadata": {},
     "output_type": "execute_result"
    }
   ],
   "source": [
    "path = Path('.')\n",
    "df = pd.read_csv(path/'steeringValues.txt', sep=']')\n",
    "df = df.drop(df.columns[[0, 1, 2]], axis=1)\n",
    "df.columns = ['Axis Value'] #rename column\n",
    "df.to_csv(path/'steeringValues.csv') #output to csv file\n",
    "df.shape"
   ]
  },
  {
   "cell_type": "markdown",
   "metadata": {},
   "source": [
    "## A.2: Create steering values csv from ranges instead of from Unreal output"
   ]
  },
  {
   "cell_type": "markdown",
   "metadata": {},
   "source": [
    "Using a simple straight road with lane markings on each side, I drove the vehicle down the center of the road for 100 frames, capturing screenshots every frame. For the steering values, I generated small random values between -0.1 and 0.1. This training data represents the behavior I want the vehicle to have when it's in the center and looking directly down the road, thus the small steering values. I then oriented the vehicle almost perpendicular to the lane markings, and began collecting 80 frames as I gradually steered back to the center of the road. I then generated 80 evenly spaced values between -1 and 0 for the steering values. This represents the behavior I want the vehicle to perform when it finds itself near the center of the road, but not looking directly down the road. I then repeated the same thing for the left side of the road, but used steering values arranged evenly from 1 to 0. I then needed data for when the vehicle found itself on either side of the road, looking directly down the road. I captured frames of the vehicle placed near the edge of the road and steering gradually back to center, and gave them a steering value arranged evenly from 0.5 to 0 for the left side, and -0.5 to 0 for the right."
   ]
  },
  {
   "cell_type": "code",
   "execution_count": null,
   "metadata": {},
   "outputs": [],
   "source": [
    "path = Path('./data/imageSeg')\n",
    "df = pd.DataFrame(np.random.uniform(-0.1,0.1,(655)), columns = ['Axis Value'], dtype=float)\n",
    "df.iloc[100:180]['Axis Value'] = np.arange(-1.0, 0, 0.0125) #generate evenly spaced values between -1 and 0\n",
    "df.iloc[180:259]['Axis Value'] = np.flip(np.arange(0.0, 1.0, 0.0127))\n",
    "df.iloc[259:484]['Axis Value'] = np.flip(np.arange(0.0, 0.5, 0.00223))\n",
    "df.iloc[484:655]['Axis Value'] = np.arange(-0.5, 0.0, 0.00293)\n",
    "df.to_csv(path/'steeringValues.csv') #output to csv file\n",
    "df.shape"
   ]
  },
  {
   "cell_type": "markdown",
   "metadata": {},
   "source": [
    "## B.1: Read in the mask frame output from Unreal. Convert to a segmented image with coded masks."
   ]
  },
  {
   "cell_type": "markdown",
   "metadata": {},
   "source": [
    "Image segmentation. I got really good and accurate results, but it was too slow making predictions. I didn't use any segmentation in the end result because I needed to update the steering values several times a second to stay on the road, and the predictions were taking over a second. I want to revisit this later and see if I can get the faster predictor someday.\n",
    "\n",
    "Method: capture screenshots from Unreal that have flat-shaded materials assigned to objects that I'd like to mask. Convert screenshot to an array, extract color values into individual variables, make an array mask for color ranges that are near the color values for each object, then change the color values to the masked code value. Will only work as long as the original color values are not too close to the coded values, so make sure that when generating the segmented image that you don't pick grays that are too close to black. Pick bright vibrant colors.\n",
    "\n",
    "Commented out cells were previous attempts at generating the mask. They were too slow, taking many hours to process the frames. The makeMaskFast function below was really quick and I got fairly clean results."
   ]
  },
  {
   "cell_type": "code",
   "execution_count": 5,
   "metadata": {},
   "outputs": [],
   "source": [
    "#old make mask function. Much faster version makeMaskFast below.\n",
    "# def makeMask(imgArray):\n",
    "    \n",
    "#     # Mask objects and their codes\n",
    "#     sky = [163, 163, 163, 255]              #Code=1\n",
    "#     tree = [233, 168, 0, 255]               #Code=2\n",
    "#     road = [0, 12, 221, 255]               #Code=3\n",
    "#     fence = [225, 228, 11, 255]             #Code=4\n",
    "#     objectStationary = [238, 57, 223, 255]  #Code=5\n",
    "#     grass = [0, 232, 0, 255]               #Code=6\n",
    "#     lightpost = [92, 222, 223, 255]         #Code=7\n",
    "#     house = [236, 0, 7, 255]               #Code=8\n",
    "#     arrow = [234, 120, 177, 255]            #Code=9\n",
    "\n",
    "#     mask = np.zeros((361, 760, 3), dtype=np.uint8) #initialize mask to zeros\n",
    "    \n",
    "#      #for each pixel, check if it's close to the color of the mask object (values above). If it is, then make mask pixel\n",
    "#      #equal to mask object code number. Return the mask.\n",
    "    \n",
    "#     for row in range(0, imgArray.shape[0]):        \n",
    "#         for col in range(0, imgArray.shape[1]):\n",
    "            \n",
    "#             if (np.allclose(imgArray[row][col], sky, rtol=.25, atol=10)):\n",
    "#                 mask[row][col] = np.uint8([1, 1, 1])\n",
    "#                 continue\n",
    "#             if (np.allclose(imgArray[row][col], tree, rtol=.25, atol=10)):\n",
    "#                 mask[row][col] = np.uint8([2, 2, 2])\n",
    "#                 continue\n",
    "#             if (np.allclose(imgArray[row][col], road, rtol=.25, atol=10)):\n",
    "#                 mask[row][col] = np.uint8([3, 3, 3])\n",
    "#                 continue\n",
    "#             if (np.allclose(imgArray[row][col], fence, rtol=.25, atol=10)):\n",
    "#                 mask[row][col] = np.uint8([4, 4, 4])\n",
    "#                 continue\n",
    "#             if (np.allclose(imgArray[row][col], objectStationary, rtol=.25, atol=10)):\n",
    "#                 mask[row][col] = np.uint8([5, 5, 5])\n",
    "#                 continue\n",
    "#             if (np.allclose(imgArray[row][col], grass, rtol=.25, atol=10)):\n",
    "#                 mask[row][col] = np.uint8([6, 6, 6])\n",
    "#                 continue\n",
    "#             if (np.allclose(imgArray[row][col], lightpost, rtol=.25, atol=10)):\n",
    "#                 mask[row][col] = np.uint8([7, 7, 7])\n",
    "#                 continue\n",
    "#             if (np.allclose(imgArray[row][col], house, rtol=.25, atol=10)):\n",
    "#                 mask[row][col] = np.uint8([8, 8, 8])\n",
    "#                 continue\n",
    "#             if (np.allclose(imgArray[row][col], arrow, rtol=.25, atol=10)):\n",
    "#                 mask[row][col] = np.uint8([9, 9, 9])          \n",
    "\n",
    "#     return mask"
   ]
  },
  {
   "cell_type": "code",
   "execution_count": 8,
   "metadata": {},
   "outputs": [],
   "source": [
    "# first attempt at mask generation. Was really slow because it read each pixel for each mask object.\n",
    "\n",
    "# def makeMask(imgArray, maskObject, maskObjectCode):\n",
    "#     #for each pixel, check if it's close to the color of the maskObject. If it is, then make pixel = (1, 1, 1), if not make \n",
    "#     #pixel = (0, 0, 0). Return the product of the pixel array and the code of the maskObject to create the coded mask.\n",
    "\n",
    "#     mask = np.zeros((361, 760, 3), dtype=np.uint8)\n",
    "\n",
    "#     for row in range(0, imgArray.shape[0]):\n",
    "#         for col in range(0, imgArray.shape[1]):\n",
    "#             mask[row][col] = int(np.allclose(imgArray[row][col], maskObject, rtol=.25, atol=10))\n",
    "    \n",
    "#     return np.uint8(mask*maskObjectCode)"
   ]
  },
  {
   "cell_type": "code",
   "execution_count": 255,
   "metadata": {},
   "outputs": [
    {
     "data": {
      "text/plain": [
       "array([[[False, False, False],\n",
       "        [ True,  True,  True],\n",
       "        [False, False, False],\n",
       "        ...,\n",
       "        [False, False, False],\n",
       "        [False, False, False],\n",
       "        [False, False, False]],\n",
       "\n",
       "       [[False, False, False],\n",
       "        [False, False, False],\n",
       "        [ True,  True,  True],\n",
       "        ...,\n",
       "        [False, False, False],\n",
       "        [False, False, False],\n",
       "        [False, False, False]],\n",
       "\n",
       "       [[False, False, False],\n",
       "        [False, False, False],\n",
       "        [ True,  True,  True],\n",
       "        ...,\n",
       "        [False, False, False],\n",
       "        [False, False, False],\n",
       "        [False, False, False]],\n",
       "\n",
       "       ...,\n",
       "\n",
       "       [[False, False, False],\n",
       "        [False, False, False],\n",
       "        [False, False, False],\n",
       "        ...,\n",
       "        [False, False, False],\n",
       "        [False, False, False],\n",
       "        [False, False, False]],\n",
       "\n",
       "       [[False, False, False],\n",
       "        [False, False, False],\n",
       "        [False, False, False],\n",
       "        ...,\n",
       "        [False, False, False],\n",
       "        [False, False, False],\n",
       "        [False, False, False]],\n",
       "\n",
       "       [[False, False, False],\n",
       "        [False, False, False],\n",
       "        [False, False, False],\n",
       "        ...,\n",
       "        [ True,  True,  True],\n",
       "        [False, False, False],\n",
       "        [False, False, False]]])"
      ]
     },
     "execution_count": 255,
     "metadata": {},
     "output_type": "execute_result"
    }
   ],
   "source": [
    "\n",
    "# image = Image.open('./labels/screenshots/ScreenShot00010.png').resize((760, 361)).convert(mode='RGB')\n",
    "# #Code dictionary - name:(r, g, b, code)\n",
    "# codeDict = {'sky':(163, 163, 163, 1),\n",
    "#             'tree':(233, 168, 0, 2),\n",
    "#             'road':(0, 12, 221, 3),\n",
    "#             'fence':(225, 228, 11, 4),\n",
    "#             'objectStationary':(238, 57, 223, 5),\n",
    "#             'grass':(0, 232, 0, 6),\n",
    "#             'lighpost':(92, 222, 223, 7),\n",
    "#             'house':(236, 0, 7, 8),\n",
    "#             'arrow':(234, 120, 177, 9)}\n",
    "\n",
    "# data = np.asarray(image)\n",
    "# data.flags.writeable = True #Don't know why the array isn't writeable. Had to explicity set it.\n",
    "\n",
    "# red, green, blue = data[:,:,0], data[:,:,1], data[:,:,2]\n",
    "\n",
    "# #For each mask object replace colors with coded mask.\n",
    "# for key, value in codeDict.items():\n",
    "\n",
    "#     r1, g1, b1, code = value\n",
    "\n",
    "#     mask = (np.isclose(red, r1, rtol=0.25, atol=15)) & (np.isclose(green, g1, rtol=0.25, atol=15)) & \\\n",
    "#         (np.isclose(blue, b1, rtol=0.25, atol=15))\n",
    "\n",
    "#     data[:,:,:3][mask] = [code, code, code]\n",
    "\n",
    "# mask = (data > 9) | (data[:,:,:1] != data[:,:,:3]) #Create a mask for remaining 'void' colors.\n",
    "# #Make another mask for remaining red that is < 9 and not uniform(there's got to be a better way)\n",
    "# mask1 = (data[:,:,0] != data[:,:,1]) | (data[:,:,0] != data[:,:,2]) | (data[:,:,1] != data[:,:,2])\n",
    "# mask[:,:,0] = mask1[:,:]\n",
    "# mask[:,:,1] = mask1[:,:]\n",
    "# mask[:,:,2] = mask1[:,:]\n",
    "# data[:,:,:3][mask] = 0 #Set 'void' colors to black.\n",
    "# img = Image.fromarray(data, mode='RGB')\n",
    "# img.save('./temp.png', 'png')\n"
   ]
  },
  {
   "cell_type": "code",
   "execution_count": 256,
   "metadata": {},
   "outputs": [],
   "source": [
    "def makeMaskFast(image):\n",
    "\n",
    "    #Code dictionary - name:(r, g, b, code)\n",
    "    codeDict = {'sky':(163, 163, 163, 1),\n",
    "                'tree':(233, 168, 0, 2),\n",
    "                'road':(0, 12, 221, 3),\n",
    "                'fence':(225, 228, 11, 4),\n",
    "                'objectStationary':(238, 57, 223, 5),\n",
    "                'grass':(0, 232, 0, 6),\n",
    "                'lighpost':(92, 222, 223, 7),\n",
    "                'house':(236, 0, 7, 8),\n",
    "                'arrow':(234, 120, 177, 9)}\n",
    "\n",
    "    data = np.asarray(image)\n",
    "    data.flags.writeable = True #Don't know why the array isn't writeable. Had to explicity set it.\n",
    "\n",
    "    red, green, blue = data[:,:,0], data[:,:,1], data[:,:,2]\n",
    "\n",
    "    #For each mask object replace colors with coded mask.\n",
    "    for key, value in codeDict.items():\n",
    "\n",
    "        r1, g1, b1, code = value\n",
    "\n",
    "        mask = (np.isclose(red, r1, rtol=0.25, atol=15)) & (np.isclose(green, g1, rtol=0.25, atol=15)) & \\\n",
    "            (np.isclose(blue, b1, rtol=0.25, atol=15))\n",
    "\n",
    "        data[:,:,:3][mask] = [code, code, code]\n",
    "\n",
    "    mask = (data > 9) | (data[:,:,:1] != data[:,:,:3]) #Create a mask for remaining 'void' colors.\n",
    "    #Make another mask for remaining red that is < 9 and not uniform(there's got to be a better way)\n",
    "    mask1 = (data[:,:,0] != data[:,:,1]) | (data[:,:,0] != data[:,:,2]) | (data[:,:,1] != data[:,:,2])\n",
    "    mask[:,:,0] = mask1[:,:]\n",
    "    mask[:,:,1] = mask1[:,:]\n",
    "    mask[:,:,2] = mask1[:,:]\n",
    "    data[:,:,:3][mask] = 0 #Set 'void' colors to black.\n",
    "\n",
    "    return data"
   ]
  },
  {
   "cell_type": "markdown",
   "metadata": {},
   "source": [
    "## Create mask for each screenshot"
   ]
  },
  {
   "cell_type": "code",
   "execution_count": 258,
   "metadata": {},
   "outputs": [],
   "source": [
    "path = Path('./data/imageSeg/labels/screenshots')\n",
    "savePath = Path('./data/imageSeg/labels')\n",
    "\n",
    "# for each file in the lables/screenshots directory, resize, convert to an array, make the coded mask, then save to the\n",
    "# labels directory.\n",
    "for filename in os.listdir(path):\n",
    "    if not (filename.endswith('.png')):\n",
    "        continue\n",
    "    \n",
    "    #Open and resize image\n",
    "    img = Image.open(path/filename).resize((760, 361)).convert(mode='RGB')\n",
    "    \n",
    "    #Make the mask, convert to PIL image, add _P to filename, and save in 'labels' folder\n",
    "    label = makeMaskFast(img)\n",
    "    img = Image.fromarray(label, mode='RGB')\n",
    "    filenameP = filename[:-4] + '_P.png'\n",
    "    img.save(savePath/filenameP, 'png')"
   ]
  },
  {
   "cell_type": "markdown",
   "metadata": {},
   "source": [
    "# C.1: Resize screengrabs from Unreal"
   ]
  },
  {
   "cell_type": "markdown",
   "metadata": {},
   "source": [
    "The screengrabs from Unreal are too big for the CNN I'm using. Size them down so they don't take up so much memory"
   ]
  },
  {
   "cell_type": "code",
   "execution_count": 80,
   "metadata": {},
   "outputs": [],
   "source": [
    "path = Path('./data/imageSeg/images')\n",
    "\n",
    "for filename in os.listdir(path):\n",
    "    if not (filename.endswith('.png')):\n",
    "        continue\n",
    "        \n",
    "    img = Image.open(path/filename).resize((760, 361))\n",
    "    img.save(path/filename, 'png')"
   ]
  },
  {
   "cell_type": "markdown",
   "metadata": {},
   "source": [
    "## D.1: Create validation set list and print to txt file"
   ]
  },
  {
   "cell_type": "markdown",
   "metadata": {},
   "source": [
    "Split by name for validation set. This prints all the files names in the 'images' directory to the text file 'valid.txt'. After running this code edit valid.txt to include only the files you'd like in your validation set."
   ]
  },
  {
   "cell_type": "code",
   "execution_count": 276,
   "metadata": {},
   "outputs": [],
   "source": [
    "path = Path('./data/imageSeg/images')\n",
    "\n",
    "with open(\"valid.txt\", \"w\") as text_file:\n",
    "    for filename in os.listdir(path):\n",
    "        print(filename, file=text_file)"
   ]
  },
  {
   "cell_type": "markdown",
   "metadata": {},
   "source": [
    "## D. 2: Create validation set list for image regression and print to txt file"
   ]
  },
  {
   "cell_type": "markdown",
   "metadata": {},
   "source": [
    "Same as above, but grabs the file names from the 'labels' directory and writes it to 'valid_mask.txt'. Edit this text file to include only the files you'd like to include in your validation set."
   ]
  },
  {
   "cell_type": "code",
   "execution_count": 4,
   "metadata": {},
   "outputs": [],
   "source": [
    "path = Path('./data/imageSeg/labels')\n",
    "\n",
    "with open(\"valid_mask.txt\", \"w\") as text_file:\n",
    "    for filename in os.listdir(path):\n",
    "        print(filename, file=text_file)"
   ]
  }
 ],
 "metadata": {
  "kernelspec": {
   "display_name": "Python 3",
   "language": "python",
   "name": "python3"
  },
  "language_info": {
   "codemirror_mode": {
    "name": "ipython",
    "version": 3
   },
   "file_extension": ".py",
   "mimetype": "text/x-python",
   "name": "python",
   "nbconvert_exporter": "python",
   "pygments_lexer": "ipython3",
   "version": "3.7.2"
  }
 },
 "nbformat": 4,
 "nbformat_minor": 2
}
